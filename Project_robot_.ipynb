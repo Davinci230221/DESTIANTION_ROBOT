{
  "nbformat": 4,
  "nbformat_minor": 0,
  "metadata": {
    "colab": {
      "name": "Project : robot .ipynb",
      "provenance": []
    },
    "kernelspec": {
      "name": "python3",
      "display_name": "Python 3"
    },
    "language_info": {
      "name": "python"
    }
  },
  "cells": [
    {
      "cell_type": "markdown",
      "source": [
        "*PROJET RéaLiser Par : Mannai Mortadha *\n",
        "\n",
        "\n",
        "\n"
      ],
      "metadata": {
        "id": "0wHoHNKYxfLz"
      }
    },
    {
      "cell_type": "markdown",
      "source": [
        "*ABOUT / /* notre projet :c'est un algorithm intelligent d'un Robot capable d'éviter les obstacle devant le puis aller  à sa but avec le plus court chemin !"
      ],
      "metadata": {
        "id": "M98TBMjq0NLc"
      }
    },
    {
      "cell_type": "markdown",
      "source": [
        "* CLASSE : GII2/G2*"
      ],
      "metadata": {
        "id": "xZUofMxyx1vt"
      }
    },
    {
      "cell_type": "code",
      "execution_count": 3,
      "metadata": {
        "id": "CnsUNeFOuc4m"
      },
      "outputs": [],
      "source": [
        "import random"
      ]
    },
    {
      "cell_type": "code",
      "source": [
        "class Agent(object):\n",
        "    def __init__(self,env):\n",
        "        \"\"\"set up the agent\"\"\"\n",
        "        self.env=env\n",
        "\n",
        "    def go(self,n):\n",
        "        \"\"\"acts for n time steps\"\"\"\n",
        "        raise NotImplementedError(\"go\")   # abstract method"
      ],
      "metadata": {
        "id": "wrn0YCauvlbX"
      },
      "execution_count": 4,
      "outputs": []
    },
    {
      "cell_type": "code",
      "source": [
        "from IPython.display import display_png as dp\n",
        "\n"
      ],
      "metadata": {
        "id": "vZkgsh74wcJt"
      },
      "execution_count": 7,
      "outputs": []
    },
    {
      "cell_type": "code",
      "source": [
        "class Environment():\n",
        "    def initial_percepts(self):\n",
        "        \"\"\"returns the initial percepts for the agent\"\"\"\n",
        "        raise NotImplementedError(\"initial_percepts\")   # abstract method\n",
        "\n",
        "    def do(self,action):\n",
        "        \"\"\"does the action in the environment\n",
        "        returns the next percept \"\"\"\n",
        "        raise NotImplementedError(\"do\")   # abstract method\n"
      ],
      "metadata": {
        "id": "zMixvQs1xGen"
      },
      "execution_count": 15,
      "outputs": []
    },
    {
      "cell_type": "code",
      "source": [
        "class TP_env(Environment):\n",
        "    prices = [234, 234, 234, 234, 255, 255, 275, 275, 211, 211, 211,\n",
        "    234, 234, 234, 234, 199, 199, 275, 275, 234, 234, 234, 234, 255,\n",
        "    255, 260, 260, 265, 265, 265, 265, 270, 270, 255, 255, 260, 260,\n",
        "    265, 265, 150, 150, 265, 265, 270, 270, 255, 255, 260, 260, 265,\n",
        "    265, 265, 265, 270, 270, 211, 211, 255, 255, 260, 260, 265, 265,\n",
        "    260, 265, 270, 270, 205, 255, 255, 260, 260, 265, 265, 265, 265,\n",
        "    270, 270]\n",
        "    max_price_addon = 20  # maximum of random value added to get price\n",
        "  \n"
      ],
      "metadata": {
        "id": "9sz4yxqwybF2"
      },
      "execution_count": 20,
      "outputs": []
    },
    {
      "cell_type": "code",
      "source": [
        " def __init__(self):\n",
        "        \"\"\"paper buying agent\"\"\"\n",
        "        self.time=0\n",
        "        self.stock=20\n",
        "        self.stock_history = []  # memory of the stock history\n",
        "        self.price_history = []  # memory of the price history"
      ],
      "metadata": {
        "id": "Joa3MF6Oy2gb"
      },
      "execution_count": 22,
      "outputs": []
    },
    {
      "cell_type": "code",
      "source": [
        "def initial_percepts(self):\n",
        "        \"\"\"return initial percepts\"\"\"\n",
        "        self.stock_history.append(self.stock)\n",
        "        price = self.prices[0]+random.randrange(self.max_price_addon)\n",
        "        self.price_history.append(price)\n",
        "        return {'price': price,\n",
        "                'instock': self.stock}"
      ],
      "metadata": {
        "id": "JHXsADTEym1R"
      },
      "execution_count": 18,
      "outputs": []
    },
    {
      "cell_type": "code",
      "source": [
        "def do(self, action):\n",
        "        \"\"\"does action (buy) and returns percepts (price and instock)\"\"\"\n",
        "        used = pick_from_dist({6:0.1, 5:0.1, 4:0.2, 3:0.3, 2:0.2, 1:0.1})\n",
        "        bought = action['buy']\n",
        "        self.stock = self.stock+bought-used\n",
        "        self.stock_history.append(self.stock)\n",
        "        self.time += 1\n",
        "        price = (self.prices[self.time%len(self.prices)] # repeating pattern\n",
        "                 +random.randrange(self.max_price_addon) # plus randomness\n",
        "                 +self.time//2)                          # plus inflation\n",
        "        self.price_history.append(price)\n",
        "        return {'price': price,\n",
        "                'instock': self.stock}"
      ],
      "metadata": {
        "id": "Q6BhKvkWy8pA"
      },
      "execution_count": 23,
      "outputs": []
    },
    {
      "cell_type": "code",
      "source": [
        "\n",
        "def pick_from_dist(item_prob_dist):\n",
        "    \"\"\" returns a value from a distribution.\n",
        "    item_prob_dist is an item:probability dictionary, where the\n",
        "        probabilities sum to 1.\n",
        "    returns an item chosen in proportion to its probability\n",
        "    \"\"\"\n",
        "    ranreal = random.random() # between 0 and 1\n",
        "    for (it,prob) in item_prob_dist.items():\n",
        "        if ranreal < prob:\n",
        "            return it\n",
        "        else:\n",
        "            ranreal -= prob\n",
        "    raise RuntimeError(str(item_prob_dist)+\" is not a probability distribution\")\n"
      ],
      "metadata": {
        "id": "gG8TPVT6zA59"
      },
      "execution_count": 24,
      "outputs": []
    },
    {
      "cell_type": "code",
      "source": [
        "class TP_agent(Agent):\n",
        "    def __init__(self, env):\n",
        "        self.env = env\n",
        "        self.spent = 0\n",
        "        percepts = env.initial_percepts()\n",
        "        self.ave = self.last_price = percepts['price']\n",
        "        self.instock = percepts['instock']\n",
        "        \n",
        "    def go(self, n):\n",
        "        \"\"\"go for n time steps\n",
        "        \"\"\"\n",
        "        for i in range(n):\n",
        "            if self.last_price < 0.9*self.ave and self.instock < 60:\n",
        "                tobuy = 48\n",
        "            elif self.instock < 12:\n",
        "                tobuy = 12\n",
        "            else:\n",
        "                tobuy = 0\n",
        "            self.spent += tobuy*self.last_price\n",
        "            percepts = env.do({'buy': tobuy})\n",
        "            self.last_price = percepts['price']\n",
        "            self.ave = self.ave+(self.last_price-self.ave)*0.05\n",
        "            self.instock = percepts['instock']"
      ],
      "metadata": {
        "id": "u3PKw8S4zEXT"
      },
      "execution_count": 25,
      "outputs": []
    },
    {
      "cell_type": "code",
      "source": [
        "import matplotlib.pyplot as plt\n"
      ],
      "metadata": {
        "id": "Vg1V_jckzLsy"
      },
      "execution_count": 35,
      "outputs": []
    },
    {
      "cell_type": "code",
      "source": [
        "class Plot_prices(object):\n",
        "    \"\"\"Set up the plot for history of price and number in stock\"\"\"\n",
        "    def __init__(self, ag,env):\n",
        "        self.ag = ag\n",
        "        self.env = env\n",
        "        plt.ion()\n",
        "        plt.xlabel(\"Time\")\n",
        "        plt.ylabel(\"Number in stock Price.\")\n",
        "\n",
        "    def plot_run(self):\n",
        "        \"\"\"plot history of price and instock\"\"\"\n",
        "        num = len(env.stock_history)\n",
        "        plt.plot(range(num),env.stock_history,label=\"In stock\")\n",
        "        plt.plot(range(num),env.price_history,label=\"Price\")\n",
        "        #plt.legend(loc=\"upper left\")\n",
        "        plt.draw()\n"
      ],
      "metadata": {
        "id": "8w-KP5HAz1Ce"
      },
      "execution_count": 37,
      "outputs": []
    },
    {
      "cell_type": "code",
      "source": [
        "plt.legend(loc=\"upper left\")"
      ],
      "metadata": {
        "colab": {
          "base_uri": "https://localhost:8080/",
          "height": 305
        },
        "id": "2dXZC27U-Fbt",
        "outputId": "c8eb78b4-e2bf-4105-bc20-7e4a8526e1bd"
      },
      "execution_count": 105,
      "outputs": [
        {
          "output_type": "stream",
          "name": "stderr",
          "text": [
            "No handles with labels found to put in legend.\n"
          ]
        },
        {
          "output_type": "execute_result",
          "data": {
            "text/plain": [
              "<matplotlib.legend.Legend at 0x7fbc983bb950>"
            ]
          },
          "metadata": {},
          "execution_count": 105
        },
        {
          "output_type": "display_data",
          "data": {
            "text/plain": [
              "<Figure size 432x288 with 1 Axes>"
            ],
            "image/png": "[encoded data removed]"
          },
          "metadata": {
            "needs_background": "light"
          }
        }
      ]
    },
    {
      "cell_type": "code",
      "source": [
        "env = TP_env()\n",
        "\n"
      ],
      "metadata": {
        "id": "iHar3UQ50Ek8"
      },
      "execution_count": 46,
      "outputs": []
    },
    {
      "cell_type": "code",
      "source": [
        "#ag = TP_agent(env)\n",
        "#ag.go(90)\n",
        "#ag.spent/env.time   ## average spent per time period"
      ],
      "metadata": {
        "id": "D98VNlsj1m5M"
      },
      "execution_count": 52,
      "outputs": []
    },
    {
      "cell_type": "code",
      "source": [
        "# pl = Plot_prices(ag,env)\n",
        "# ag.go(90); pl.plot_run()"
      ],
      "metadata": {
        "id": "QA-lKsRL20k6"
      },
      "execution_count": 53,
      "outputs": []
    },
    {
      "cell_type": "code",
      "source": [
        " pl = Plot_prices(ag,env)"
      ],
      "metadata": {
        "colab": {
          "base_uri": "https://localhost:8080/",
          "height": 283
        },
        "id": "0571QFmk9ZWa",
        "outputId": "dd37c212-30bb-4f73-d0ca-d4ab0159ccd7"
      },
      "execution_count": 101,
      "outputs": [
        {
          "output_type": "display_data",
          "data": {
            "text/plain": [
              "<Figure size 432x288 with 1 Axes>"
            ],
            "image/png": "[encoded data removed]"
          },
          "metadata": {
            "needs_background": "light"
          }
        }
      ]
    },
    {
      "cell_type": "code",
      "source": [
        "\n",
        "INSTALLED_APPS = [\n",
        "    'django.contrib.admin',\n",
        "    'django.contrib.auth',\n",
        "    'django.contrib.contenttypes',\n",
        "    'django.contrib.sessions',\n",
        "    'django.contrib.messages',\n",
        "    'django.contrib.staticfiles',\n",
        "    'user_agent',\n",
        "]\n",
        "\n",
        "\n",
        "\n"
      ],
      "metadata": {
        "id": "hy8Y0-x424uY"
      },
      "execution_count": 58,
      "outputs": []
    },
    {
      "cell_type": "code",
      "source": [
        "import math\n"
      ],
      "metadata": {
        "id": "r6Tsx2kA3eOT"
      },
      "execution_count": 61,
      "outputs": []
    },
    {
      "cell_type": "code",
      "source": [
        "pip install -U face_recognition "
      ],
      "metadata": {
        "colab": {
          "base_uri": "https://localhost:8080/"
        },
        "id": "jKXCENgl31yU",
        "outputId": "292c7182-1554-41f7-984d-bd3890221183"
      },
      "execution_count": 63,
      "outputs": [
        {
          "output_type": "stream",
          "name": "stdout",
          "text": [
            "Looking in indexes: https://pypi.org/simple, https://us-python.pkg.dev/colab-wheels/public/simple/\n",
            "Collecting face_recognition\n",
            "  Downloading face_recognition-1.3.0-py2.py3-none-any.whl (15 kB)\n",
            "Requirement already satisfied: Pillow in /usr/local/lib/python3.7/dist-packages (from face_recognition) (7.1.2)\n",
            "Requirement already satisfied: dlib>=19.7 in /usr/local/lib/python3.7/dist-packages (from face_recognition) (19.18.0+zzzcolab20220513001918)\n",
            "Requirement already satisfied: numpy in /usr/local/lib/python3.7/dist-packages (from face_recognition) (1.21.6)\n",
            "Requirement already satisfied: Click>=6.0 in /usr/local/lib/python3.7/dist-packages (from face_recognition) (7.1.2)\n",
            "Collecting face-recognition-models>=0.3.0\n",
            "  Downloading face_recognition_models-0.3.0.tar.gz (100.1 MB)\n",
            "\u001b[K     |████████████████████████████████| 100.1 MB 23 kB/s \n",
            "\u001b[?25hBuilding wheels for collected packages: face-recognition-models\n",
            "  Building wheel for face-recognition-models (setup.py) ... \u001b[?25l\u001b[?25hdone\n",
            "  Created wheel for face-recognition-models: filename=face_recognition_models-0.3.0-py2.py3-none-any.whl size=100566186 sha256=b80da65f1d85e973eee50391340889153ab49eed76afb172e0f1c00bfe0798cd\n",
            "  Stored in directory: /root/.cache/pip/wheels/d6/81/3c/884bcd5e1c120ff548d57c2ecc9ebf3281c9a6f7c0e7e7947a\n",
            "Successfully built face-recognition-models\n",
            "Installing collected packages: face-recognition-models, face-recognition\n",
            "Successfully installed face-recognition-1.3.0 face-recognition-models-0.3.0\n"
          ]
        }
      ]
    },
    {
      "cell_type": "code",
      "source": [
        "import math\n",
        "\n",
        "\n",
        "class Rob_env(Environment):\n",
        "    def __init__(self,walls = {}):\n",
        "        \"\"\"walls is a set of line segments \n",
        "               where each line segment is of the form ((x0,y0),(x1,y1))\n",
        "        \"\"\"\n",
        "        self.walls = walls\n",
        "        \n",
        "import math\n",
        "import matplotlib.pyplot as plt\n",
        "import time\n",
        "\n",
        "class Rob_body(Environment):\n",
        "    def __init__(self, env, init_pos=(0,0,90)):\n",
        "        \"\"\" env is the current environment\n",
        "        init_pos is a triple of (x-position, y-position, direction) \n",
        "            direction is in degrees; 0 is to right, 90 is straight-up, etc\n",
        "        \"\"\"\n",
        "        self.env = env\n",
        "        self.rob_x, self.rob_y, self.rob_dir = init_pos\n",
        "        self.turning_angle = 18   # degrees that a left makes\n",
        "        self.whisker_length = 6   # length of the whisker\n",
        "        self.whisker_angle = 30   # angle of whisker relative to robot\n",
        "        self.crashed = False\n",
        "        # The following control how it is plotted\n",
        "        self.plotting = True      # whether the trace is being plotted\n",
        "        self.sleep_time = 0.05     # time between actions (for real-time plotting)\n",
        "        # The following are data structures maintained:\n",
        "        self.history = [(self.rob_x, self.rob_y)] # history of (x,y) positions\n",
        "        self.wall_history = []     # history of hitting the wall\n",
        "\n",
        "    def percepts(self):\n",
        "        return {'rob_x_pos':self.rob_x, 'rob_y_pos':self.rob_y,\n",
        "                'rob_dir':self.rob_dir, 'whisker':self.whisker() , 'crashed':self.crashed}\n",
        "    initial_percepts = percepts  # use percept function for initial percepts too\n",
        "\n",
        "    def do(self,action):\n",
        "        \"\"\" action is {'steer':direction}\n",
        "        direction is 'left', 'right' or 'straight'\n",
        "        \"\"\"\n",
        "        if self.crashed:\n",
        "            return self.percepts()\n",
        "        direction = action['steer']  \n",
        "        compass_deriv = {'left':1,'straight':0,'right':-1}[direction]*self.turning_angle\n",
        "        self.rob_dir = (self.rob_dir + compass_deriv +360)%360  # make in range [0,360)\n",
        "        rob_x_new = self.rob_x + math.cos(self.rob_dir*math.pi/180)\n",
        "        rob_y_new = self.rob_y + math.sin(self.rob_dir*math.pi/180)\n",
        "        path = ((self.rob_x,self.rob_y),(rob_x_new,rob_y_new))\n",
        "        if any(line_segments_intersect(path,wall) for wall in self.env.walls):\n",
        "            self.crashed = True\n",
        "            if self.plotting:\n",
        "                plt.plot([self.rob_x],[self.rob_y],\"r*\",markersize=20.0)\n",
        "                plt.draw()\n",
        "        self.rob_x, self.rob_y = rob_x_new, rob_y_new \n",
        "        self.history.append((self.rob_x, self.rob_y))\n",
        "        if self.plotting and not self.crashed:\n",
        "            plt.plot([self.rob_x],[self.rob_y],\"go\")\n",
        "            plt.draw()\n",
        "            plt.pause(self.sleep_time)\n",
        "        return self.percepts()\n",
        "\n",
        "    def whisker(self):\n",
        "        \"\"\"returns true whenever the whisker sensor intersects with a wall\n",
        "        \"\"\"\n",
        "        whisk_ang_world = (self.rob_dir-self.whisker_angle)*math.pi/180\n",
        "            # angle in radians in world coordinates\n",
        "        wx = self.rob_x + self.whisker_length * math.cos(whisk_ang_world)\n",
        "        wy = self.rob_y + self.whisker_length * math.sin(whisk_ang_world)\n",
        "        whisker_line = ((self.rob_x,self.rob_y),(wx,wy))\n",
        "        hit = any(line_segments_intersect(whisker_line,wall)\n",
        "                    for wall in self.env.walls)\n",
        "        if hit:\n",
        "            self.wall_history.append((self.rob_x, self.rob_y))\n",
        "            if self.plotting:\n",
        "                plt.plot([self.rob_x],[self.rob_y],\"ro\")\n",
        "                plt.draw()\n",
        "        return hit\n",
        "    \n",
        "def line_segments_intersect(linea,lineb):\n",
        "    \"\"\"returns true if the line segments, linea and lineb intersect.\n",
        "    A line segment is represented as a pair of points.\n",
        "    A point is represented as a (x,y) pair.\n",
        "    \"\"\"\n",
        "    ((x0a,y0a),(x1a,y1a)) = linea\n",
        "    ((x0b,y0b),(x1b,y1b)) = lineb\n",
        "    da, db = x1a-x0a, x1b-x0b\n",
        "    ea, eb = y1a-y0a, y1b-y0b\n",
        "    denom = db*ea-eb*da\n",
        "    if denom==0:    # line segments are parallel\n",
        "        return False\n",
        "    cb = (da*(y0b-y0a)-ea*(x0b-x0a))/denom  # position along line b\n",
        "    if cb<0 or cb>1:\n",
        "        return False\n",
        "    ca = (db*(y0b-y0a)-eb*(x0b-x0a))/denom # position along line a\n",
        "    return 0<=ca<=1\n",
        "\n",
        "# Test cases:\n",
        "# assert line_segments_intersect(((0,0),(1,1)),((1,0),(0,1)))\n",
        "# assert not line_segments_intersect(((0,0),(1,1)),((1,0),(0.6,0.4)))\n",
        "# assert line_segments_intersect(((0,0),(1,1)),((1,0),(0.4,0.6)))\n"
      ],
      "metadata": {
        "id": "IJruMxbk3qNw"
      },
      "execution_count": 68,
      "outputs": []
    },
    {
      "cell_type": "code",
      "source": [
        "assert line_segments_intersect(((0,0),(1,1)),((1,0),(0,1)))"
      ],
      "metadata": {
        "id": "Jz9g_PWg4BI1"
      },
      "execution_count": 70,
      "outputs": []
    },
    {
      "cell_type": "code",
      "source": [
        "assert not line_segments_intersect(((0,0),(1,1)),((1,0),(0.6,0.4)))"
      ],
      "metadata": {
        "id": "oxo_lN9z4dT1"
      },
      "execution_count": 71,
      "outputs": []
    },
    {
      "cell_type": "code",
      "source": [
        "assert line_segments_intersect(((0,0),(1,1)),((1,0),(0.4,0.6)))"
      ],
      "metadata": {
        "id": "elGXG5h44i4J"
      },
      "execution_count": 72,
      "outputs": []
    },
    {
      "cell_type": "code",
      "source": [
        "\n",
        "import math\n",
        "\n",
        "class Rob_middle_layer(Environment):\n",
        "    def __init__(self,env):\n",
        "        self.env=env\n",
        "        self.percepts = env.initial_percepts()\n",
        "        self.straight_angle = 11 # angle that is close enough to straight ahead\n",
        "        self.close_threshold = 2  # distance that is close enough to arrived\n",
        "        self.close_threshold_squared = self.close_threshold**2 # just compute it once\n",
        "\n",
        "    def initial_percepts(self):\n",
        "        return {}\n",
        "\n",
        "    def do(self, action):\n",
        "        \"\"\"action is {'go_to':target_pos,'timeout':timeout}\n",
        "        target_pos is (x,y) pair\n",
        "        timeout is the number of steps to try\n",
        "        returns {'arrived':True} when arrived is true\n",
        "             or {'arrived':False} if it reached the timeout \n",
        "        \"\"\"\n",
        "        if 'timeout' in action:\n",
        "            remaining = action['timeout']\n",
        "        else:\n",
        "            remaining = -1    # will never reach 0\n",
        "        target_pos = action['go_to']\n",
        "        arrived = self.close_enough(target_pos)\n",
        "        while not arrived and remaining != 0:\n",
        "            self.percepts = self.env.do({\"steer\":self.steer(target_pos)})\n",
        "            remaining -= 1\n",
        "            arrived = self.close_enough(target_pos)\n",
        "        return {'arrived':arrived}\n",
        "\n",
        "    def steer(self,target_pos):\n",
        "        if self.percepts['whisker']:\n",
        "            self.display(3,'whisker on', self.percepts)\n",
        "            return \"left\"\n",
        "        else:\n",
        "            gx,gy = target_pos\n",
        "            rx,ry = self.percepts['rob_x_pos'],self.percepts['rob_y_pos']\n",
        "            goal_dir = math.acos((gx-rx)/math.sqrt((gx-rx)*(gx-rx)\n",
        "                                                   +(gy-ry)*(gy-ry)))*180/math.pi\n",
        "            if ry>gy:\n",
        "                goal_dir = -goal_dir\n",
        "            goal_from_rob = (goal_dir - self.percepts['rob_dir']+540)%360-180\n",
        "            assert -180 < goal_from_rob <= 180\n",
        "            if goal_from_rob > self.straight_angle:\n",
        "                return \"left\"\n",
        "            elif goal_from_rob < -self.straight_angle:\n",
        "                return \"right\"\n",
        "            else:\n",
        "                return \"straight\"\n",
        "\n",
        "    def close_enough(self,target_pos):\n",
        "        gx,gy = target_pos\n",
        "        rx,ry = self.percepts['rob_x_pos'],self.percepts['rob_y_pos']\n",
        "        return (gx-rx)**2 + (gy-ry)**2 <= self.close_threshold_squared"
      ],
      "metadata": {
        "id": "k6FWlZtM4oFK"
      },
      "execution_count": 74,
      "outputs": []
    },
    {
      "cell_type": "code",
      "source": [
        "\n",
        "\n",
        "\n",
        "class Rob_top_layer(Environment):\n",
        "    def __init__(self, middle, timeout=200, locations = {'mail':(-5,10), \n",
        "                          'o103':(50,10), 'o109':(100,10),'storage':(101,51)} ):\n",
        "        \"\"\"middle is the middle layer\n",
        "        timeout is the number of steps the middle layer goes before giving up\n",
        "        locations is a loc:pos dictionary \n",
        "            where loc is a named location, and pos is an (x,y) position.\n",
        "        \"\"\"\n",
        "        self.middle = middle\n",
        "        self.timeout = timeout  # number of steps before the middle layer should give up\n",
        "        self.locations = locations\n",
        "        \n",
        "    def do(self,plan):\n",
        "        \"\"\"carry out actions.\n",
        "        actions is of the form {'visit':list_of_locations}\n",
        "        It visits the locations in turn.\n",
        "        \"\"\"\n",
        "        to_do = plan['visit']\n",
        "        for loc in to_do:\n",
        "            position = self.locations[loc]\n",
        "            arrived = self.middle.do({'go_to':position, 'timeout':self.timeout})\n",
        "            self.display(1,\"Arrived at\",loc,arrived)\n",
        "\n",
        "import matplotlib.pyplot as plt\n",
        "\n",
        "class Plot_env(object):\n",
        "    def __init__(self, body,top):\n",
        "        \"\"\"sets up the plot\n",
        "        \"\"\"\n",
        "        self.body = body\n",
        "        plt.ion()\n",
        "        plt.clf()\n",
        "        plt.axes().set_aspect('equal')\n",
        "        for wall in body.env.walls:\n",
        "            ((x0,y0),(x1,y1)) = wall\n",
        "            plt.plot([x0,x1],[y0,y1],\"-k\",linewidth=3)\n",
        "        for loc in top.locations:\n",
        "            (x,y) = top.locations[loc]\n",
        "            plt.plot([x],[y],\"k<\")\n",
        "            plt.text(x+1.0,y+0.5,loc) # print the label above and to the right\n",
        "        plt.plot([body.rob_x],[body.rob_y],\"go\")\n",
        "        plt.draw()\n",
        "\n",
        "    def plot_run(self):\n",
        "        \"\"\"plots the history after the agent has finished.\n",
        "        This is typically only used if body.plotting==False\n",
        "        \"\"\"\n",
        "        xs,ys = zip(*self.body.history)\n",
        "        plt.plot(xs,ys,\"go\")\n",
        "        wxs,wys = zip(*self.body.wall_history)\n",
        "        plt.plot(wxs,wys,\"ro\")\n",
        "        #plt.draw()\n",
        "\n",
        "\n",
        "env = Rob_env({((20,0),(30,20)), ((70,-5),(70,25))})\n",
        "body = Rob_body(env)\n",
        "middle = Rob_middle_layer(body)\n",
        "top = Rob_top_layer(middle)\n",
        "\n",
        "# try:\n",
        "# pl=Plot_env(body,top)\n",
        "# top.do({'visit':['o109','storage','o109','o103']})\n",
        "# You can directly control the middle layer:\n",
        "# middle.do({'go_to':(30,-10), 'timeout':200})\n",
        "# Can you make it crash?\n",
        "\n",
        "# Robot Trap for which the current controller cannot escape:\n",
        "trap_env = Rob_env({((10,-21),(10,0)), ((10,10),(10,31)), ((30,-10),(30,0)),\n",
        "                    ((30,10),(30,20)),  ((50,-21),(50,31)), ((10,-21),(50,-21)),\n",
        "                    ((10,0),(30,0)),  ((10,10),(30,10)),  ((10,31),(50,31))})\n",
        "trap_body = Rob_body(trap_env,init_pos=(-1,0,90))\n",
        "trap_middle = Rob_middle_layer(trap_body)\n",
        "trap_top = Rob_top_layer(trap_middle,locations={'goal':(71,0)})\n",
        "\n",
        "# Robot trap exercise:\n",
        "# pl=Plot_env(trap_body,trap_top)\n",
        "# trap_top.do({'visit':['goal']})\n"
      ],
      "metadata": {
        "id": "HTzioI-14ypl"
      },
      "execution_count": 78,
      "outputs": []
    },
    {
      "cell_type": "code",
      "source": [
        "pl=Plot_env(body,top)"
      ],
      "metadata": {
        "colab": {
          "base_uri": "https://localhost:8080/",
          "height": 225
        },
        "id": "swwu4D3I5Aq1",
        "outputId": "fe54a9e9-8b1e-4d37-80d0-47d5d03a4755"
      },
      "execution_count": 79,
      "outputs": [
        {
          "output_type": "display_data",
          "data": {
            "text/plain": [
              "<Figure size 432x288 with 1 Axes>"
            ],
            "image/png": "[encoded data removed]"
          },
          "metadata": {
            "needs_background": "light"
          }
        }
      ]
    },
    {
      "cell_type": "code",
      "source": [
        "\n",
        "class Displayable(object):\n",
        "    \"\"\"Class that uses 'display'.\n",
        "    The amount of detail is controlled by max_display_level\n",
        "    \"\"\"\n",
        "    max_display_level = 1   # can be overridden in subclasses\n",
        "\n",
        "    def display(self,level,*args,**nargs):\n",
        "        \"\"\"print the arguments if level is less than or equal to the\n",
        "        current max_display_level.\n",
        "        level is an integer.\n",
        "        the other arguments are whatever arguments print can take.\n",
        "        \"\"\"\n",
        "        if level <= self.max_display_level:\n",
        "            print(*args, **nargs)  ##if error you are using Python2 not Python3\n",
        "\n",
        "def visualize(func):\n",
        "    \"\"\"A decorator for algorithms that do interactive visualization.\n",
        "    Ignored here.\n",
        "    \"\"\"\n",
        "    return func"
      ],
      "metadata": {
        "id": "1CQP68Vu8gED"
      },
      "execution_count": 98,
      "outputs": []
    },
    {
      "cell_type": "code",
      "source": [
        " pl=Plot_env(trap_body,trap_top)"
      ],
      "metadata": {
        "colab": {
          "base_uri": "https://localhost:8080/",
          "height": 264
        },
        "id": "SBDE-dvT-ss6",
        "outputId": "a94ac7ba-994b-4b17-b069-b6c5c1a34b3c"
      },
      "execution_count": 113,
      "outputs": [
        {
          "output_type": "display_data",
          "data": {
            "text/plain": [
              "<Figure size 432x288 with 1 Axes>"
            ],
            "image/png": "[encoded data removed]"
          },
          "metadata": {
            "needs_background": "light"
          }
        }
      ]
    }
  ]
}